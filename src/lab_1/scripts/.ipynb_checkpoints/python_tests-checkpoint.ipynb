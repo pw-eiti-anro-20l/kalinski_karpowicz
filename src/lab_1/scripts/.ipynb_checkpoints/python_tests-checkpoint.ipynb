{
 "cells": [
  {
   "cell_type": "code",
   "execution_count": 1,
   "metadata": {},
   "outputs": [
    {
     "ename": "SyntaxError",
     "evalue": "unexpected EOF while parsing (<ipython-input-1-4a874a7fa6f4>, line 13)",
     "output_type": "error",
     "traceback": [
      "\u001b[0;36m  File \u001b[0;32m\"<ipython-input-1-4a874a7fa6f4>\"\u001b[0;36m, line \u001b[0;32m13\u001b[0m\n\u001b[0;31m    def create_msgs(self):\u001b[0m\n\u001b[0m                          ^\u001b[0m\n\u001b[0;31mSyntaxError\u001b[0m\u001b[0;31m:\u001b[0m unexpected EOF while parsing\n"
     ]
    }
   ],
   "source": [
    "class Keyboard_monitor:\n",
    "    def __init__(self, cmd_pub, front_key, back_key, left_key, right_key):\n",
    "        self.cmd_pub = cmd_pub\n",
    "        self.front_key = front_key\n",
    "        self.back_key = back_key\n",
    "        self.left_key = left_key\n",
    "        self.right_key = right_key\n",
    "\n",
    "        self.cmd_msg = Twist()\n",
    "    def on_press(key):\n",
    "        self.key_choice[key]\n",
    "\n",
    "    def create_msgs(self):"
   ]
  },
  {
   "cell_type": "code",
   "execution_count": null,
   "metadata": {},
   "outputs": [],
   "source": [
    "class Monitor:\n",
    "    def __init__(self):\n",
    "        self.msg = {'front':0, 'back':0}\n",
    "    def front_on(self):\n",
    "        self.msg['front']=1\n",
    "    def front_off(self):\n",
    "        self.msg['front']=0\n",
    "    def back_on(self):\n",
    "        self.msg['back']=1\n",
    "    def back_off(self):\n",
    "        self.msg['back']=0\n",
    "    def print_data(self):\n",
    "        print(self.msg)\n",
    "    \n",
    "monitor = Monitor()\n",
    "key_choice = {'w':monitor.front_on, 's':monitor.back_on}"
   ]
  },
  {
   "cell_type": "code",
   "execution_count": null,
   "metadata": {},
   "outputs": [],
   "source": []
  },
  {
   "cell_type": "code",
   "execution_count": null,
   "metadata": {},
   "outputs": [],
   "source": [
    "key_choice['w']"
   ]
  }
 ],
 "metadata": {
  "kernelspec": {
   "display_name": "Python 3",
   "language": "python",
   "name": "python3"
  },
  "language_info": {
   "codemirror_mode": {
    "name": "ipython",
    "version": 3
   },
   "file_extension": ".py",
   "mimetype": "text/x-python",
   "name": "python",
   "nbconvert_exporter": "python",
   "pygments_lexer": "ipython3",
   "version": "3.7.4"
  }
 },
 "nbformat": 4,
 "nbformat_minor": 2
}
